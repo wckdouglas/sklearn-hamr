{
 "cells": [
  {
   "cell_type": "code",
   "execution_count": 1,
   "metadata": {
    "collapsed": false
   },
   "outputs": [],
   "source": [
    "%matplotlib inline\n",
    "\n",
    "import numpy as np\n",
    "import pandas as pd\n",
    "from sklearn.ensemble import RandomForestClassifier\n",
    "from sklearn.preprocessing import label_binarize\n",
    "from sklearn import cross_validation\n",
    "from sklearn.grid_search import GridSearchCV\n",
    "from sklearn.multiclass import OneVsRestClassifier\n",
    "from sklearn import metrics\n",
    "from scipy.stats import binom, rankdata\n",
    "from multiprocessing import Pool\n",
    "import statsmodels.stats.multitest as smm\n",
    "import seaborn as sns\n",
    "import matplotlib.pyplot as plt\n",
    "\n",
    "clf = OneVsRestClassifier(RandomForestClassifier())"
   ]
  },
  {
   "cell_type": "code",
   "execution_count": 2,
   "metadata": {
    "collapsed": true
   },
   "outputs": [],
   "source": [
    "def subsetData(df,base):\n",
    "    #define features and labels\n",
    "    features = ['A','C','T','G','deletion']\n",
    "    features.remove(base) \n",
    "    dfPredictors = df[features].values\n",
    "    rowsum = np.sum(dfPredictors,axis=1)\n",
    "    X = np.true_divide(dfPredictors.T  ,rowsum).T\n",
    "    return np.array(X,dtype=np.float64)\n",
    "pd.DataFrame.subsetData = subsetData\n",
    "\n",
    "def getPvalue(correctReads,cov,seqErr):\n",
    "    assert len(correctReads)==len(cov), 'Wrong length of vector!'\n",
    "    ps = binom.cdf(correctReads,n=cov,p=1-seqErr)\n",
    "    return ps\n",
    "\n",
    "def filterData(df,hyp,seqErr,pThreshold):\n",
    "    mismatchBases = df[['A','C','T','G']].values\n",
    "    df['mismatch'] = np.sum(mismatchBases,axis=1)\n",
    "    df['refRead'] = df['cov'] - df['mismatch']\n",
    "    if hyp == 'hyp1':\n",
    "        df['p'] = getPvalue(df['refRead'].values,df['cov'].values,seqErr)\n",
    "    elif hyp == 'hyp2':\n",
    "        df['secondRef'] = np.amax(mismatchBases,axis=1)\n",
    "        df['correctHeteroReads'] = np.sum(df[['refRead','secondRef']],axis=1)\n",
    "        df['p'] = getPvalue(df['correctHeteroReads'].values,df['cov'].values,seqErr)\n",
    "    df['padj'] =  smm.multipletests(df['p'].values,alpha=0.05,method='fdr_bh')[1]\n",
    "    df = df[(df['padj']<pThreshold) & (df['cov']>10)]\n",
    "    return df\n",
    "pd.DataFrame.filterData = filterData\n",
    "\n",
    "def mergeAbbrev(abb):\n",
    "    if abb in ['m1A','m1I']:\n",
    "        return 'm1A|m1I'\n",
    "    elif abb in ['m2G','m2,2G']:\n",
    "        return 'm2G|m2,2G'\n",
    "    else:\n",
    "        return abb\n",
    "    \n",
    "def modificationType(abb):\n",
    "    if abb in ['m1A|m1I','I','m3C','acp3U','m3U','m2G|m2,2G']:\n",
    "        return 'On basepair'\n",
    "    else:\n",
    "        return 'not on basepair'"
   ]
  },
  {
   "cell_type": "code",
   "execution_count": 3,
   "metadata": {
    "collapsed": false
   },
   "outputs": [],
   "source": [
    "def get_roc(y_test, y_score, y_train):\n",
    "    classes = np.unique(y_train)\n",
    "    classes = np.append(classes,'null') #add null class to avoid true_binary model\n",
    "    y = label_binarize(y_test, classes=classes)\n",
    "    y = y[:,:-1]\n",
    "\n",
    "    roc_auc = {}\n",
    "    for i in range(len(classes[:-1])):\n",
    "        multiclass = classes[i]\n",
    "        fpr, tpr, _ = metrics.roc_curve(y[:, i], y_score[:, i])\n",
    "        if len(tpr) > 2:\n",
    "            roc_auc[multiclass] = metrics.auc(fpr, tpr)\n",
    "    return roc_auc\n",
    "\n",
    "def validation(X,Y):\n",
    "    repeats = 10\n",
    "    metric_list = [] \n",
    "    parameters = {'estimator__n_estimators':np.arange(5,40)}\n",
    "        \n",
    "    for i in np.arange(repeats):\n",
    "        # split train test\n",
    "        X_train, X_test, y_train, y_test = cross_validation.train_test_split(X, Y, test_size=0.2,random_state=i)   \n",
    "        loocv = cross_validation.LeaveOneOut(n = len(X_train))\n",
    "        kfold = cross_validation.KFold(n = len(X_train),n_folds = 6)\n",
    "        cv = GridSearchCV(clf,param_grid=parameters,n_jobs=-1, cv=kfold)\n",
    "        cv.fit(X_train, y_train)\n",
    "        tuned_model = cv.best_estimator_\n",
    "        model = tuned_model.fit(X_train,y_train)\n",
    "        y_score = model.predict_proba(X_test)\n",
    "        roc_auc = get_roc(y_test, y_score, y_train)\n",
    "        roc_df = pd.DataFrame(roc_auc, index=['auc'])\n",
    "        roc_df = pd.melt(roc_df, value_name='AUC',var_name='classes')\n",
    "        roc_df['repeat'] = np.repeat(i,len(roc_df))\n",
    "        metric_list.append(roc_df)\n",
    "    return pd.concat(metric_list,axis=0)\n",
    "    \n",
    "def trainBase(df, base):\n",
    "    filtered_df = df[df['ref'] == base]\n",
    "    classes = np.unique(filtered_df['abbrev'])\n",
    "    if len(classes) != 1 and len(filtered_df)> 20:\n",
    "        X = filtered_df.subsetData(base)\n",
    "        Y = filtered_df['abbrev'].values\n",
    "        res = validation(X,Y)\n",
    "        res['base'] = np.repeat(base, len(res))\n",
    "        return res"
   ]
  },
  {
   "cell_type": "code",
   "execution_count": 4,
   "metadata": {
    "collapsed": false
   },
   "outputs": [],
   "source": [
    "trainDf = pd.read_json('../trainSets/teiTable.json','table')\\\n",
    "        .filterData('hyp1', 0.05, 0.05)\n",
    "trainDf['abbrev'] = map(mergeAbbrev,trainDf.abbrev)"
   ]
  },
  {
   "cell_type": "code",
   "execution_count": 5,
   "metadata": {
    "collapsed": false,
    "scrolled": false
   },
   "outputs": [
    {
     "name": "stderr",
     "output_type": "stream",
     "text": [
      "/home/cdw2854/src/miniconda2/lib/python2.7/site-packages/sklearn/metrics/ranking.py:530: UndefinedMetricWarning: No negative samples in y_true, false positive value should be meaningless\n",
      "  UndefinedMetricWarning)\n",
      "/home/cdw2854/src/miniconda2/lib/python2.7/site-packages/sklearn/metrics/ranking.py:538: UndefinedMetricWarning: No positive samples in y_true, true positive value should be meaningless\n",
      "  UndefinedMetricWarning)\n"
     ]
    }
   ],
   "source": [
    "auc = [trainBase(trainDf,base) for base in list('ACTG')]\n",
    "auc = pd.concat(auc,axis=0)\n",
    "auc['type'] = map(modificationType,auc['classes'])"
   ]
  },
  {
   "cell_type": "code",
   "execution_count": 29,
   "metadata": {
    "collapsed": false
   },
   "outputs": [
    {
     "data": {
      "text/plain": [
       "<matplotlib.text.Text at 0x7f1a83dbac50>"
      ]
     },
     "execution_count": 29,
     "metadata": {},
     "output_type": "execute_result"
    },
    {
     "data": {
      "image/png": "[encoded data removed]",
      "text/plain": [
       "<matplotlib.figure.Figure at 0x7f1a80da5e10>"
      ]
     },
     "metadata": {},
     "output_type": "display_data"
    }
   ],
   "source": [
    "auc.sort_values(by='base',inplace=True)\n",
    "sns.set_style('white')\n",
    "with sns.plotting_context('paper',font_scale=2):\n",
    "    p = sns.FacetGrid(data = auc, col = 'base', sharex=False, aspect = 2, size=3)\n",
    "p.map(sns.swarmplot,'classes', 'AUC','type',palette=sns.color_palette(\"hls\", 2))\n",
    "p.add_legend()\n",
    "p.set(ylim=(0,1.2))\n",
    "p.set(xlabel=' ', ylabel=' ')\n",
    "p.set_titles('{col_name}')\n",
    "p.fig.text(x = 0, y = 0.8, s='Area Under Curve', rotation = 90, size=12) # y axis label\n",
    "p.fig.text(x = 0.4, y = 0, s= 'Modifications') # x axis label"
   ]
  },
  {
   "cell_type": "code",
   "execution_count": null,
   "metadata": {
    "collapsed": true
   },
   "outputs": [],
   "source": []
  }
 ],
 "metadata": {
  "kernelspec": {
   "display_name": "Python 2",
   "language": "python",
   "name": "python2"
  },
  "language_info": {
   "codemirror_mode": {
    "name": "ipython",
    "version": 2
   },
   "file_extension": ".py",
   "mimetype": "text/x-python",
   "name": "python",
   "nbconvert_exporter": "python",
   "pygments_lexer": "ipython2",
   "version": "2.7.11"
  }
 },
 "nbformat": 4,
 "nbformat_minor": 0
}
